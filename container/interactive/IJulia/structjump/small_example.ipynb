{
 "cells": [
  {
   "cell_type": "code",
   "execution_count": null,
   "metadata": {
    "collapsed": true
   },
   "outputs": [],
   "source": [
    "using StructJuMP, JuMP\n",
    "\n",
    "numScen = 2\n",
    "m = StructuredModel(num_scenarios=numScen)\n",
    "@variable(m, x[1:2])\n",
    "@NLconstraint(m, x[1] + x[2] == 100)\n",
    "@NLobjective(m, Min, x[1]^2 + x[2]^2 + x[1]*x[2])\n",
    "\n",
    "for i in 1:numScen\n",
    "    bl = StructuredModel(parent=m, id=i)\n",
    "    @variable(bl, y[1:2])\n",
    "    @NLconstraint(bl, x[1] + y[1]+y[2] ≥  0)\n",
    "    @NLconstraint(bl, x[2] + y[1]+y[2] ≤ 50)\n",
    "    @NLobjective(bl, Min, y[1]^2 + y[2]^2 + y[1]*y[2])\n",
    "end\n"
   ]
  },
  {
   "cell_type": "code",
   "execution_count": null,
   "metadata": {
    "collapsed": true
   },
   "outputs": [],
   "source": [
    "#solve with PipsNlp parallel solver library\n",
    "solve(m, solver=\"PipsNlp\")"
   ]
  },
  {
   "cell_type": "code",
   "execution_count": null,
   "metadata": {
    "collapsed": true
   },
   "outputs": [],
   "source": [
    "#solve with PipsNlp serial solver library\n",
    "solve(m, solver=\"PipsNlpSerial\") "
   ]
  },
  {
   "cell_type": "code",
   "execution_count": null,
   "metadata": {
    "collapsed": true
   },
   "outputs": [],
   "source": [
    "#solve with Ipopt solver library\n",
    "solve(m, solver=\"Ipopt\") "
   ]
  }
 ],
 "metadata": {
  "kernelspec": {
   "display_name": "Julia 0.4.6",
   "language": "julia",
   "name": "julia-0.4"
  },
  "language_info": {
   "file_extension": ".jl",
   "mimetype": "application/julia",
   "name": "julia",
   "version": "0.4.6"
  }
 },
 "nbformat": 4,
 "nbformat_minor": 0
}
